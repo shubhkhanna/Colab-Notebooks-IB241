{
  "nbformat": 4,
  "nbformat_minor": 0,
  "metadata": {
    "colab": {
      "name": "numpy.ipynb",
      "provenance": [],
      "collapsed_sections": [],
      "authorship_tag": "ABX9TyOxprY+Ddh4QWyX8TZoz784",
      "include_colab_link": true
    },
    "kernelspec": {
      "name": "python3",
      "display_name": "Python 3"
    }
  },
  "cells": [
    {
      "cell_type": "markdown",
      "metadata": {
        "id": "view-in-github",
        "colab_type": "text"
      },
      "source": [
        "<a href=\"https://colab.research.google.com/github/shubhkhanna/Colab-Notebooks-IB241/blob/master/numpy.ipynb\" target=\"_parent\"><img src=\"https://colab.research.google.com/assets/colab-badge.svg\" alt=\"Open In Colab\"/></a>"
      ]
    },
    {
      "cell_type": "markdown",
      "metadata": {
        "id": "DabwRTikHH25"
      },
      "source": [
        "#Numpy Arrays"
      ]
    },
    {
      "cell_type": "code",
      "metadata": {
        "id": "IMu8XlGQHOLs"
      },
      "source": [
        "import numpy as np"
      ],
      "execution_count": 32,
      "outputs": []
    },
    {
      "cell_type": "code",
      "metadata": {
        "id": "R4wdEb05HTJz",
        "outputId": "52966f93-6dc6-4d2e-dd94-a8c1595bf2db",
        "colab": {
          "base_uri": "https://localhost:8080/",
          "height": 35
        }
      },
      "source": [
        "arr1 = np.array([1,2,3])\n",
        "arr1"
      ],
      "execution_count": 33,
      "outputs": [
        {
          "output_type": "execute_result",
          "data": {
            "text/plain": [
              "array([1, 2, 3])"
            ]
          },
          "metadata": {
            "tags": []
          },
          "execution_count": 33
        }
      ]
    },
    {
      "cell_type": "code",
      "metadata": {
        "id": "7XD1JC-lI3CS",
        "outputId": "ec138a24-76b2-4cd0-d41c-8fcd6ee4dfe9",
        "colab": {
          "base_uri": "https://localhost:8080/",
          "height": 35
        }
      },
      "source": [
        "arr1.dtype"
      ],
      "execution_count": 34,
      "outputs": [
        {
          "output_type": "execute_result",
          "data": {
            "text/plain": [
              "dtype('int64')"
            ]
          },
          "metadata": {
            "tags": []
          },
          "execution_count": 34
        }
      ]
    },
    {
      "cell_type": "code",
      "metadata": {
        "id": "aLYZINYrI7iG",
        "outputId": "56fec0de-a734-4675-d3e5-d981e562d55c",
        "colab": {
          "base_uri": "https://localhost:8080/",
          "height": 52
        }
      },
      "source": [
        "arr2 = np.array([[2,3,4],[2,4,5]])\n",
        "arr2"
      ],
      "execution_count": 35,
      "outputs": [
        {
          "output_type": "execute_result",
          "data": {
            "text/plain": [
              "array([[2, 3, 4],\n",
              "       [2, 4, 5]])"
            ]
          },
          "metadata": {
            "tags": []
          },
          "execution_count": 35
        }
      ]
    },
    {
      "cell_type": "code",
      "metadata": {
        "id": "EBCNE3o2Jh8y",
        "outputId": "94cf1f2a-0737-4de9-d1b7-1b85b1ce6c4f",
        "colab": {
          "base_uri": "https://localhost:8080/",
          "height": 35
        }
      },
      "source": [
        "arr2.shape"
      ],
      "execution_count": 36,
      "outputs": [
        {
          "output_type": "execute_result",
          "data": {
            "text/plain": [
              "(2, 3)"
            ]
          },
          "metadata": {
            "tags": []
          },
          "execution_count": 36
        }
      ]
    },
    {
      "cell_type": "code",
      "metadata": {
        "id": "6Se6n0P_KBue",
        "outputId": "33b5d85f-32b3-4ca9-d6bd-e24a0f615647",
        "colab": {
          "base_uri": "https://localhost:8080/",
          "height": 35
        }
      },
      "source": [
        "# return evenly spaced value\n",
        "x = np.arange(10)\n",
        "x"
      ],
      "execution_count": 37,
      "outputs": [
        {
          "output_type": "execute_result",
          "data": {
            "text/plain": [
              "array([0, 1, 2, 3, 4, 5, 6, 7, 8, 9])"
            ]
          },
          "metadata": {
            "tags": []
          },
          "execution_count": 37
        }
      ]
    },
    {
      "cell_type": "code",
      "metadata": {
        "id": "tdLxMPv8KXyd",
        "outputId": "a41b2a1d-854c-40fa-9530-9fe104836378",
        "colab": {
          "base_uri": "https://localhost:8080/",
          "height": 35
        }
      },
      "source": [
        "# return array with 2nd number stepping\n",
        "x = np.arange(0,10,2)\n",
        "x"
      ],
      "execution_count": 38,
      "outputs": [
        {
          "output_type": "execute_result",
          "data": {
            "text/plain": [
              "array([0, 2, 4, 6, 8])"
            ]
          },
          "metadata": {
            "tags": []
          },
          "execution_count": 38
        }
      ]
    },
    {
      "cell_type": "code",
      "metadata": {
        "id": "vbhm6i5nLmKi",
        "outputId": "a64d8e5d-7853-4545-b64f-05cd1fec88e4",
        "colab": {
          "base_uri": "https://localhost:8080/",
          "height": 52
        }
      },
      "source": [
        "np.zeros((2,3), dtype=int)\n"
      ],
      "execution_count": 39,
      "outputs": [
        {
          "output_type": "execute_result",
          "data": {
            "text/plain": [
              "array([[0, 0, 0],\n",
              "       [0, 0, 0]])"
            ]
          },
          "metadata": {
            "tags": []
          },
          "execution_count": 39
        }
      ]
    },
    {
      "cell_type": "code",
      "metadata": {
        "id": "sXxH9vtvLsYJ",
        "outputId": "8938ec86-d093-499f-d44d-0f438b05f03a",
        "colab": {
          "base_uri": "https://localhost:8080/",
          "height": 70
        }
      },
      "source": [
        "np.ones((3,3), dtype=float)"
      ],
      "execution_count": 40,
      "outputs": [
        {
          "output_type": "execute_result",
          "data": {
            "text/plain": [
              "array([[1., 1., 1.],\n",
              "       [1., 1., 1.],\n",
              "       [1., 1., 1.]])"
            ]
          },
          "metadata": {
            "tags": []
          },
          "execution_count": 40
        }
      ]
    },
    {
      "cell_type": "code",
      "metadata": {
        "id": "NpcbGqhILy8L",
        "outputId": "42b92e8f-e4fb-4ae0-daf6-aeb1da7372a7",
        "colab": {
          "base_uri": "https://localhost:8080/",
          "height": 88
        }
      },
      "source": [
        "print(np.identity(2, dtype=int))\n",
        "# or\n",
        "print(np.eye(2,3, dtype=int))"
      ],
      "execution_count": 41,
      "outputs": [
        {
          "output_type": "stream",
          "text": [
            "[[1 0]\n",
            " [0 1]]\n",
            "[[1 0 0]\n",
            " [0 1 0]]\n"
          ],
          "name": "stdout"
        }
      ]
    },
    {
      "cell_type": "code",
      "metadata": {
        "id": "ooHylGF2NF_5",
        "outputId": "e041c0cc-2813-4dcb-c096-9e2243849ec4",
        "colab": {
          "base_uri": "https://localhost:8080/",
          "height": 52
        }
      },
      "source": [
        "np.random.rand(2,3) #return random number array"
      ],
      "execution_count": 42,
      "outputs": [
        {
          "output_type": "execute_result",
          "data": {
            "text/plain": [
              "array([[0.8533379 , 0.0595091 , 0.8414638 ],\n",
              "       [0.08515791, 0.4386745 , 0.48850934]])"
            ]
          },
          "metadata": {
            "tags": []
          },
          "execution_count": 42
        }
      ]
    },
    {
      "cell_type": "code",
      "metadata": {
        "id": "Tz3jAH0oNahS",
        "outputId": "09cb08dd-22cd-4ad9-eded-1725bb2a0bd4",
        "colab": {
          "base_uri": "https://localhost:8080/",
          "height": 141
        }
      },
      "source": [
        "#return 2 array of 3 rows and 2 columns\n",
        "np.random.rand(2,3,2)"
      ],
      "execution_count": 43,
      "outputs": [
        {
          "output_type": "execute_result",
          "data": {
            "text/plain": [
              "array([[[0.49305653, 0.20005006],\n",
              "        [0.01635122, 0.60404651],\n",
              "        [0.76519184, 0.34191444]],\n",
              "\n",
              "       [[0.8026679 , 0.62391803],\n",
              "        [0.68314021, 0.2675897 ],\n",
              "        [0.77679616, 0.93895634]]])"
            ]
          },
          "metadata": {
            "tags": []
          },
          "execution_count": 43
        }
      ]
    },
    {
      "cell_type": "code",
      "metadata": {
        "id": "HsJaWxtAOTBq",
        "outputId": "917d23de-284c-4d49-afcd-835c09e936d6",
        "colab": {
          "base_uri": "https://localhost:8080/",
          "height": 35
        }
      },
      "source": [
        "#returns a random between 2 and 3000\n",
        "np.random.randint(2,3000)"
      ],
      "execution_count": 44,
      "outputs": [
        {
          "output_type": "execute_result",
          "data": {
            "text/plain": [
              "1084"
            ]
          },
          "metadata": {
            "tags": []
          },
          "execution_count": 44
        }
      ]
    },
    {
      "cell_type": "code",
      "metadata": {
        "id": "qrkh9KjsOu5g",
        "outputId": "d87c6a35-16a0-48a6-b831-4b5ea32a6354",
        "colab": {
          "base_uri": "https://localhost:8080/",
          "height": 35
        }
      },
      "source": [
        "#returns 2 array of 4 different numbers\n",
        "np.random.randint(10,100,size=(1,2))"
      ],
      "execution_count": 45,
      "outputs": [
        {
          "output_type": "execute_result",
          "data": {
            "text/plain": [
              "array([[57, 95]])"
            ]
          },
          "metadata": {
            "tags": []
          },
          "execution_count": 45
        }
      ]
    },
    {
      "cell_type": "code",
      "metadata": {
        "id": "DK6KOdmtPVfX",
        "outputId": "892a0798-876a-43ac-ad06-1faa5f269320",
        "colab": {
          "base_uri": "https://localhost:8080/",
          "height": 35
        }
      },
      "source": [
        "#return an array of different numbers\n",
        "np.random.randint(1,10,4)"
      ],
      "execution_count": 46,
      "outputs": [
        {
          "output_type": "execute_result",
          "data": {
            "text/plain": [
              "array([5, 1, 5, 6])"
            ]
          },
          "metadata": {
            "tags": []
          },
          "execution_count": 46
        }
      ]
    },
    {
      "cell_type": "code",
      "metadata": {
        "id": "vdhrcqBPO9gc",
        "outputId": "46cd8af9-3d0f-4ff3-89ef-cab552715df3",
        "colab": {
          "base_uri": "https://localhost:8080/",
          "height": 52
        }
      },
      "source": [
        "#return an array of 4 diiferent random numbers and of shape(2,2)\n",
        "np.random.randint(1,20,4).reshape(2,2)"
      ],
      "execution_count": 47,
      "outputs": [
        {
          "output_type": "execute_result",
          "data": {
            "text/plain": [
              "array([[14,  5],\n",
              "       [ 8,  9]])"
            ]
          },
          "metadata": {
            "tags": []
          },
          "execution_count": 47
        }
      ]
    },
    {
      "cell_type": "markdown",
      "metadata": {
        "id": "_fjtfjJg9XzE"
      },
      "source": [
        "# Lecture 29 - 09 - 2020\n"
      ]
    },
    {
      "cell_type": "markdown",
      "metadata": {
        "id": "ADa5HwUM9jQt"
      },
      "source": [
        "### min,max,argmax,argmin"
      ]
    },
    {
      "cell_type": "code",
      "metadata": {
        "id": "HVhgfO6qD_3N",
        "outputId": "84c7846f-7175-4011-9cc7-f1e3248d9b5a",
        "colab": {
          "base_uri": "https://localhost:8080/",
          "height": 124
        }
      },
      "source": [
        "ran = np.random.randint(10,20, 8).reshape(2,4)\n",
        "print(ran)\n",
        "print(ran.max())\n",
        "print(ran.min())\n",
        "print(ran.argmax()) #provide index of maximum number\n",
        "print(ran.argmin()) #provide index of minimum "
      ],
      "execution_count": 48,
      "outputs": [
        {
          "output_type": "stream",
          "text": [
            "[[17 12 15 11]\n",
            " [14 19 19 17]]\n",
            "19\n",
            "11\n",
            "5\n",
            "3\n"
          ],
          "name": "stdout"
        }
      ]
    },
    {
      "cell_type": "markdown",
      "metadata": {
        "id": "CdCSTNagKPeB"
      },
      "source": [
        "### Indexing\n"
      ]
    },
    {
      "cell_type": "code",
      "metadata": {
        "id": "H9nE5J9yGfX7",
        "outputId": "b2638371-8c6b-412c-9608-188f59169ad3",
        "colab": {
          "base_uri": "https://localhost:8080/",
          "height": 159
        }
      },
      "source": [
        "arr = np.arange(50,150)\n",
        "arr"
      ],
      "execution_count": 49,
      "outputs": [
        {
          "output_type": "execute_result",
          "data": {
            "text/plain": [
              "array([ 50,  51,  52,  53,  54,  55,  56,  57,  58,  59,  60,  61,  62,\n",
              "        63,  64,  65,  66,  67,  68,  69,  70,  71,  72,  73,  74,  75,\n",
              "        76,  77,  78,  79,  80,  81,  82,  83,  84,  85,  86,  87,  88,\n",
              "        89,  90,  91,  92,  93,  94,  95,  96,  97,  98,  99, 100, 101,\n",
              "       102, 103, 104, 105, 106, 107, 108, 109, 110, 111, 112, 113, 114,\n",
              "       115, 116, 117, 118, 119, 120, 121, 122, 123, 124, 125, 126, 127,\n",
              "       128, 129, 130, 131, 132, 133, 134, 135, 136, 137, 138, 139, 140,\n",
              "       141, 142, 143, 144, 145, 146, 147, 148, 149])"
            ]
          },
          "metadata": {
            "tags": []
          },
          "execution_count": 49
        }
      ]
    },
    {
      "cell_type": "code",
      "metadata": {
        "id": "yRYy2VLMGmYF",
        "outputId": "57af25ba-5931-4bea-c019-ce04da44288f",
        "colab": {
          "base_uri": "https://localhost:8080/",
          "height": 195
        }
      },
      "source": [
        "print(arr[5])\n",
        "print(arr[17])\n",
        "print(arr[34])\n",
        "print(arr[28])\n",
        "print(arr[48])\n",
        "print(arr[61])\n",
        "print(arr[89])\n",
        "print(arr[96])\n",
        "print(arr[68])\n",
        "print(arr[99])"
      ],
      "execution_count": 67,
      "outputs": [
        {
          "output_type": "stream",
          "text": [
            "55\n",
            "67\n",
            "84\n",
            "78\n",
            "98\n",
            "111\n",
            "139\n",
            "146\n",
            "118\n",
            "149\n"
          ],
          "name": "stdout"
        }
      ]
    },
    {
      "cell_type": "code",
      "metadata": {
        "id": "ZLBaJGiLJMCx",
        "outputId": "23b0d3cd-b8c0-4209-ce2c-e806936064ae",
        "colab": {
          "base_uri": "https://localhost:8080/",
          "height": 106
        }
      },
      "source": [
        "print(arr[58:83])#108:132\n",
        "print(arr[22:66])#72:115"
      ],
      "execution_count": 70,
      "outputs": [
        {
          "output_type": "stream",
          "text": [
            "[108 109 110 111 112 113 114 115 116 117 118 119 120 121 122 123 124 125\n",
            " 126 127 128 129 130 131 132]\n",
            "[ 72  73  74  75  76  77  78  79  80  81  82  83  84  85  86  87  88  89\n",
            "  90  91  92  93  94  95  96  97  98  99 100 101 102 103 104 105 106 107\n",
            " 108 109 110 111 112 113 114 115]\n"
          ],
          "name": "stdout"
        }
      ]
    }
  ]
}