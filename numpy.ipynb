{
  "nbformat": 4,
  "nbformat_minor": 0,
  "metadata": {
    "colab": {
      "name": "numpy.ipynb",
      "provenance": [],
      "collapsed_sections": [],
      "authorship_tag": "ABX9TyPabxwI4zCdOHv53uzerQML",
      "include_colab_link": true
    },
    "kernelspec": {
      "name": "python3",
      "display_name": "Python 3"
    }
  },
  "cells": [
    {
      "cell_type": "markdown",
      "metadata": {
        "id": "view-in-github",
        "colab_type": "text"
      },
      "source": [
        "<a href=\"https://colab.research.google.com/github/shubhkhanna/Colab-Notebooks-IB241/blob/master/numpy.ipynb\" target=\"_parent\"><img src=\"https://colab.research.google.com/assets/colab-badge.svg\" alt=\"Open In Colab\"/></a>"
      ]
    },
    {
      "cell_type": "markdown",
      "metadata": {
        "id": "DabwRTikHH25"
      },
      "source": [
        "#Numpy Arrays"
      ]
    },
    {
      "cell_type": "code",
      "metadata": {
        "id": "IMu8XlGQHOLs"
      },
      "source": [
        "import numpy as np"
      ],
      "execution_count": 1,
      "outputs": []
    },
    {
      "cell_type": "code",
      "metadata": {
        "id": "R4wdEb05HTJz",
        "outputId": "9db78761-72f0-4a35-9d3d-8ccd020469bb",
        "colab": {
          "base_uri": "https://localhost:8080/",
          "height": 35
        }
      },
      "source": [
        "arr1 = np.array([1,2,3])\n",
        "arr1"
      ],
      "execution_count": 2,
      "outputs": [
        {
          "output_type": "execute_result",
          "data": {
            "text/plain": [
              "array([1, 2, 3])"
            ]
          },
          "metadata": {
            "tags": []
          },
          "execution_count": 2
        }
      ]
    },
    {
      "cell_type": "code",
      "metadata": {
        "id": "7XD1JC-lI3CS",
        "outputId": "a419686c-5e9c-4f62-8470-14362009c6c1",
        "colab": {
          "base_uri": "https://localhost:8080/",
          "height": 35
        }
      },
      "source": [
        "arr1.dtype"
      ],
      "execution_count": 3,
      "outputs": [
        {
          "output_type": "execute_result",
          "data": {
            "text/plain": [
              "dtype('int64')"
            ]
          },
          "metadata": {
            "tags": []
          },
          "execution_count": 3
        }
      ]
    },
    {
      "cell_type": "code",
      "metadata": {
        "id": "aLYZINYrI7iG",
        "outputId": "1c3fc698-9544-4c3f-8cc7-38fbbc1b4927",
        "colab": {
          "base_uri": "https://localhost:8080/",
          "height": 52
        }
      },
      "source": [
        "arr2 = np.array([[2,3,4],[2,4,5]])\n",
        "arr2"
      ],
      "execution_count": 4,
      "outputs": [
        {
          "output_type": "execute_result",
          "data": {
            "text/plain": [
              "array([[2, 3, 4],\n",
              "       [2, 4, 5]])"
            ]
          },
          "metadata": {
            "tags": []
          },
          "execution_count": 4
        }
      ]
    },
    {
      "cell_type": "code",
      "metadata": {
        "id": "EBCNE3o2Jh8y",
        "outputId": "c2cea628-bea5-4b22-8614-8c893f82d471",
        "colab": {
          "base_uri": "https://localhost:8080/",
          "height": 35
        }
      },
      "source": [
        "arr2.shape"
      ],
      "execution_count": 5,
      "outputs": [
        {
          "output_type": "execute_result",
          "data": {
            "text/plain": [
              "(2, 3)"
            ]
          },
          "metadata": {
            "tags": []
          },
          "execution_count": 5
        }
      ]
    },
    {
      "cell_type": "code",
      "metadata": {
        "id": "6Se6n0P_KBue",
        "outputId": "59141650-7f8e-45e6-8879-9cfc3300dbba",
        "colab": {
          "base_uri": "https://localhost:8080/",
          "height": 35
        }
      },
      "source": [
        "# return evenly spaced value\n",
        "x = np.arange(10)\n",
        "x"
      ],
      "execution_count": 6,
      "outputs": [
        {
          "output_type": "execute_result",
          "data": {
            "text/plain": [
              "array([0, 1, 2, 3, 4, 5, 6, 7, 8, 9])"
            ]
          },
          "metadata": {
            "tags": []
          },
          "execution_count": 6
        }
      ]
    },
    {
      "cell_type": "code",
      "metadata": {
        "id": "tdLxMPv8KXyd",
        "outputId": "65d42db5-2d53-41b9-be96-9debb05afba6",
        "colab": {
          "base_uri": "https://localhost:8080/",
          "height": 35
        }
      },
      "source": [
        "# return array with 2nd number stepping\n",
        "x = np.arange(0,10,2)\n",
        "x"
      ],
      "execution_count": 7,
      "outputs": [
        {
          "output_type": "execute_result",
          "data": {
            "text/plain": [
              "array([0, 2, 4, 6, 8])"
            ]
          },
          "metadata": {
            "tags": []
          },
          "execution_count": 7
        }
      ]
    },
    {
      "cell_type": "code",
      "metadata": {
        "id": "vbhm6i5nLmKi",
        "outputId": "f4e88151-c55d-4351-ae4c-80774f50bcca",
        "colab": {
          "base_uri": "https://localhost:8080/",
          "height": 52
        }
      },
      "source": [
        "np.zeros((2,3), dtype=int)\n"
      ],
      "execution_count": 8,
      "outputs": [
        {
          "output_type": "execute_result",
          "data": {
            "text/plain": [
              "array([[0, 0, 0],\n",
              "       [0, 0, 0]])"
            ]
          },
          "metadata": {
            "tags": []
          },
          "execution_count": 8
        }
      ]
    },
    {
      "cell_type": "code",
      "metadata": {
        "id": "sXxH9vtvLsYJ",
        "outputId": "4ed0666a-1fd3-4a9b-ce6a-4ef8c93c42c3",
        "colab": {
          "base_uri": "https://localhost:8080/",
          "height": 70
        }
      },
      "source": [
        "np.ones((3,3), dtype=float)"
      ],
      "execution_count": 9,
      "outputs": [
        {
          "output_type": "execute_result",
          "data": {
            "text/plain": [
              "array([[1., 1., 1.],\n",
              "       [1., 1., 1.],\n",
              "       [1., 1., 1.]])"
            ]
          },
          "metadata": {
            "tags": []
          },
          "execution_count": 9
        }
      ]
    },
    {
      "cell_type": "code",
      "metadata": {
        "id": "NpcbGqhILy8L",
        "outputId": "da7da42a-7b29-46eb-84b3-dfa4626846ec",
        "colab": {
          "base_uri": "https://localhost:8080/",
          "height": 88
        }
      },
      "source": [
        "print(np.identity(2, dtype=int))\n",
        "# or\n",
        "print(np.eye(2,3, dtype=int))"
      ],
      "execution_count": 10,
      "outputs": [
        {
          "output_type": "stream",
          "text": [
            "[[1 0]\n",
            " [0 1]]\n",
            "[[1 0 0]\n",
            " [0 1 0]]\n"
          ],
          "name": "stdout"
        }
      ]
    },
    {
      "cell_type": "code",
      "metadata": {
        "id": "ooHylGF2NF_5",
        "outputId": "f69b59c1-06a2-48ac-aec9-7eb1e06b1b30",
        "colab": {
          "base_uri": "https://localhost:8080/",
          "height": 52
        }
      },
      "source": [
        "np.random.rand(2,3) #return random number array"
      ],
      "execution_count": 11,
      "outputs": [
        {
          "output_type": "execute_result",
          "data": {
            "text/plain": [
              "array([[0.05917258, 0.42768589, 0.48725911],\n",
              "       [0.6020157 , 0.29469917, 0.82914587]])"
            ]
          },
          "metadata": {
            "tags": []
          },
          "execution_count": 11
        }
      ]
    },
    {
      "cell_type": "code",
      "metadata": {
        "id": "Tz3jAH0oNahS",
        "outputId": "258d2db1-cb10-4b54-ccf3-06c0411fdb5b",
        "colab": {
          "base_uri": "https://localhost:8080/",
          "height": 141
        }
      },
      "source": [
        "#return 2 array of 3 rows and 2 columns\n",
        "np.random.rand(2,3,2)"
      ],
      "execution_count": 12,
      "outputs": [
        {
          "output_type": "execute_result",
          "data": {
            "text/plain": [
              "array([[[0.48589927, 0.03210089],\n",
              "        [0.58976668, 0.47553112],\n",
              "        [0.45398134, 0.28590005]],\n",
              "\n",
              "       [[0.63182057, 0.20724442],\n",
              "        [0.66869831, 0.50920322],\n",
              "        [0.3785205 , 0.87468951]]])"
            ]
          },
          "metadata": {
            "tags": []
          },
          "execution_count": 12
        }
      ]
    },
    {
      "cell_type": "code",
      "metadata": {
        "id": "HsJaWxtAOTBq",
        "outputId": "29120961-89b1-44d2-beda-310be7103628",
        "colab": {
          "base_uri": "https://localhost:8080/",
          "height": 35
        }
      },
      "source": [
        "#returns a random between 2 and 3000\n",
        "np.random.randint(2,3000)"
      ],
      "execution_count": 13,
      "outputs": [
        {
          "output_type": "execute_result",
          "data": {
            "text/plain": [
              "271"
            ]
          },
          "metadata": {
            "tags": []
          },
          "execution_count": 13
        }
      ]
    },
    {
      "cell_type": "code",
      "metadata": {
        "id": "qrkh9KjsOu5g",
        "outputId": "91bedc39-4216-4817-dda7-93aba9cf2637",
        "colab": {
          "base_uri": "https://localhost:8080/",
          "height": 35
        }
      },
      "source": [
        "#returns 2 array of 4 different numbers\n",
        "np.random.randint(10,100,size=(1,2))"
      ],
      "execution_count": 14,
      "outputs": [
        {
          "output_type": "execute_result",
          "data": {
            "text/plain": [
              "array([[18, 34]])"
            ]
          },
          "metadata": {
            "tags": []
          },
          "execution_count": 14
        }
      ]
    },
    {
      "cell_type": "code",
      "metadata": {
        "id": "DK6KOdmtPVfX",
        "outputId": "05017a18-b5af-43da-acce-7be33b6b0907",
        "colab": {
          "base_uri": "https://localhost:8080/",
          "height": 35
        }
      },
      "source": [
        "#return an array of different numbers\n",
        "np.random.randint(1,10,4)"
      ],
      "execution_count": 15,
      "outputs": [
        {
          "output_type": "execute_result",
          "data": {
            "text/plain": [
              "array([7, 2, 9, 1])"
            ]
          },
          "metadata": {
            "tags": []
          },
          "execution_count": 15
        }
      ]
    },
    {
      "cell_type": "code",
      "metadata": {
        "id": "vdhrcqBPO9gc",
        "outputId": "ab3ed737-f6ca-4560-acd3-21ecc864c3b1",
        "colab": {
          "base_uri": "https://localhost:8080/",
          "height": 52
        }
      },
      "source": [
        "#return an array of 4 diiferent random numbers and of shape(2,2)\n",
        "np.random.randint(1,20,4).reshape(2,2)"
      ],
      "execution_count": 16,
      "outputs": [
        {
          "output_type": "execute_result",
          "data": {
            "text/plain": [
              "array([[11, 12],\n",
              "       [13, 19]])"
            ]
          },
          "metadata": {
            "tags": []
          },
          "execution_count": 16
        }
      ]
    },
    {
      "cell_type": "markdown",
      "metadata": {
        "id": "_fjtfjJg9XzE"
      },
      "source": [
        "# Lecture 29 - 09 - 2020\n"
      ]
    },
    {
      "cell_type": "markdown",
      "metadata": {
        "id": "ADa5HwUM9jQt"
      },
      "source": [
        "# min,max,argmax,argmin"
      ]
    },
    {
      "cell_type": "code",
      "metadata": {
        "id": "HVhgfO6qD_3N",
        "outputId": "904f8fbd-0099-4dba-ea41-9727501456b0",
        "colab": {
          "base_uri": "https://localhost:8080/",
          "height": 141
        }
      },
      "source": [
        "ran = np.random.randint(10,20, 8).reshape(2,4)\n",
        "print(ran)\n",
        "print(ran.max())\n",
        "print(ran.min())\n",
        "print(ran.argmax()) #provide index of maximum number\n",
        "print(ran.argmin()) #provide index of minimum "
      ],
      "execution_count": 31,
      "outputs": [
        {
          "output_type": "stream",
          "text": [
            "[[13 17 18 15]\n",
            " [17 16 16 13]]\n",
            "18\n",
            "13\n",
            "2\n",
            "0\n"
          ],
          "name": "stdout"
        },
        {
          "output_type": "execute_result",
          "data": {
            "text/plain": [
              "<attribute 'dtype' of 'numpy.ndarray' objects>"
            ]
          },
          "metadata": {
            "tags": []
          },
          "execution_count": 31
        }
      ]
    }
  ]
}