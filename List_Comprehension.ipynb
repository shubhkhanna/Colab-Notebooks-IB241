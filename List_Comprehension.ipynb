{
  "nbformat": 4,
  "nbformat_minor": 0,
  "metadata": {
    "colab": {
      "name": "List_Comprehension",
      "provenance": [],
      "collapsed_sections": [],
      "authorship_tag": "ABX9TyNKP84p8CnQNhUGjpbr5AVd",
      "include_colab_link": true
    },
    "kernelspec": {
      "name": "python3",
      "display_name": "Python 3"
    }
  },
  "cells": [
    {
      "cell_type": "markdown",
      "metadata": {
        "id": "view-in-github",
        "colab_type": "text"
      },
      "source": [
        "<a href=\"https://colab.research.google.com/github/shubhkhanna/Colab-Notebooks-IB241/blob/master/List_Comprehension.ipynb\" target=\"_parent\"><img src=\"https://colab.research.google.com/assets/colab-badge.svg\" alt=\"Open In Colab\"/></a>"
      ]
    },
    {
      "cell_type": "markdown",
      "metadata": {
        "id": "BHA-U8gF9Xfj",
        "colab_type": "text"
      },
      "source": [
        "# List Comprehension"
      ]
    },
    {
      "cell_type": "code",
      "metadata": {
        "id": "BT8ATUGv9lF-",
        "colab_type": "code",
        "colab": {
          "base_uri": "https://localhost:8080/",
          "height": 35
        },
        "outputId": "b6b6479a-5d34-4db0-ebe0-3b44eaf3eec9"
      },
      "source": [
        "x = [i for i in range(10)]\n",
        "print(x)"
      ],
      "execution_count": 1,
      "outputs": [
        {
          "output_type": "stream",
          "text": [
            "[0, 1, 2, 3, 4, 5, 6, 7, 8, 9]\n"
          ],
          "name": "stdout"
        }
      ]
    },
    {
      "cell_type": "code",
      "metadata": {
        "id": "8Y3rSx6497lK",
        "colab_type": "code",
        "colab": {
          "base_uri": "https://localhost:8080/",
          "height": 88
        },
        "outputId": "5ec521ca-8ed4-4cad-d1bf-7d132afd2546"
      },
      "source": [
        "sq = [sq**2 for sq in range(10)]\n",
        "print(sq)\n",
        "print('\\n')\n",
        "cube = [cube**3 for cube in range(10)]\n",
        "print(cube)"
      ],
      "execution_count": 2,
      "outputs": [
        {
          "output_type": "stream",
          "text": [
            "[0, 1, 4, 9, 16, 25, 36, 49, 64, 81]\n",
            "\n",
            "\n",
            "[0, 1, 8, 27, 64, 125, 216, 343, 512, 729]\n"
          ],
          "name": "stdout"
        }
      ]
    },
    {
      "cell_type": "code",
      "metadata": {
        "id": "XMz9Hwol_Rzk",
        "colab_type": "code",
        "colab": {
          "base_uri": "https://localhost:8080/",
          "height": 52
        },
        "outputId": "6a48ff0d-bc47-4c70-8060-23f2d79e256b"
      },
      "source": [
        "l1 = [2,4,6]\n",
        "\n",
        "multi = [x*(x/2) for x in l1]\n",
        "print(multi)\n",
        "\n",
        "multi = [x*(x//2) for x in l1]\n",
        "print(multi)"
      ],
      "execution_count": 3,
      "outputs": [
        {
          "output_type": "stream",
          "text": [
            "[2.0, 8.0, 18.0]\n",
            "[2, 8, 18]\n"
          ],
          "name": "stdout"
        }
      ]
    },
    {
      "cell_type": "code",
      "metadata": {
        "id": "eMmpqfMs_-su",
        "colab_type": "code",
        "colab": {
          "base_uri": "https://localhost:8080/",
          "height": 70
        },
        "outputId": "3e7cebf2-b632-4f80-9366-5f1e179e32aa"
      },
      "source": [
        "words = ['Good','Baddest', 'Worse', 'Best', 'Better']\n",
        "\n",
        "#Printing the 2nd letter of each word\n",
        "Word = [word[1] for word in words]\n",
        "print(Word, '\\n')\n",
        "\n",
        "#Printing the 3rd letter of each word\n",
        "Word = [word[2] for word in words]\n",
        "print(Word)"
      ],
      "execution_count": 4,
      "outputs": [
        {
          "output_type": "stream",
          "text": [
            "['o', 'a', 'o', 'e', 'e'] \n",
            "\n",
            "['o', 'd', 'r', 's', 't']\n"
          ],
          "name": "stdout"
        }
      ]
    },
    {
      "cell_type": "code",
      "metadata": {
        "id": "hqc69LzRBhxw",
        "colab_type": "code",
        "colab": {
          "base_uri": "https://localhost:8080/",
          "height": 35
        },
        "outputId": "a83a3190-413f-43d0-de8e-a0d492efcdc7"
      },
      "source": [
        "print([i for i in \"human\"])"
      ],
      "execution_count": 5,
      "outputs": [
        {
          "output_type": "stream",
          "text": [
            "['h', 'u', 'm', 'a', 'n']\n"
          ],
          "name": "stdout"
        }
      ]
    },
    {
      "cell_type": "code",
      "metadata": {
        "id": "pRYiU9UyB2rR",
        "colab_type": "code",
        "colab": {
          "base_uri": "https://localhost:8080/",
          "height": 35
        },
        "outputId": "b1a7c177-8012-4f2b-c37b-207d7f52e25f"
      },
      "source": [
        "gun = []\n",
        "\n",
        "for i in \"human\":\n",
        "  gun.append(i)\n",
        "print(gun)"
      ],
      "execution_count": 6,
      "outputs": [
        {
          "output_type": "stream",
          "text": [
            "['h', 'u', 'm', 'a', 'n']\n"
          ],
          "name": "stdout"
        }
      ]
    },
    {
      "cell_type": "code",
      "metadata": {
        "id": "NkKrWZQND1BR",
        "colab_type": "code",
        "colab": {
          "base_uri": "https://localhost:8080/",
          "height": 35
        },
        "outputId": "e9bd6540-6048-466a-f791-0267aaddca47"
      },
      "source": [
        "# You need to split the [\"Good\", \"Morning\"]\n",
        "\n",
        "list1 = [\"Good\", \"Morning\"]\n",
        "print([i for i in list1[0] ], [i for i in list1[1]])\n"
      ],
      "execution_count": 7,
      "outputs": [
        {
          "output_type": "stream",
          "text": [
            "['G', 'o', 'o', 'd'] ['M', 'o', 'r', 'n', 'i', 'n', 'g']\n"
          ],
          "name": "stdout"
        }
      ]
    },
    {
      "cell_type": "code",
      "metadata": {
        "id": "IttoTuvjrEhM",
        "colab_type": "code",
        "colab": {
          "base_uri": "https://localhost:8080/",
          "height": 35
        },
        "outputId": "5c575d67-57b5-4fa0-ba38-8c1c820b8d66"
      },
      "source": [
        "list1 = [\"Good\", \"Morning\"]\n",
        "l1 = []\n",
        "l2=[]\n",
        "for x in list1[0]:\n",
        "  l1.append(x)\n",
        "\n",
        "for x in list1[1]:\n",
        "  l2.append(x)\n",
        "\n",
        "print(l1,l2)\n"
      ],
      "execution_count": 33,
      "outputs": [
        {
          "output_type": "stream",
          "text": [
            "['G', 'o', 'o', 'd'] ['M', 'o', 'r', 'n', 'i', 'n', 'g']\n"
          ],
          "name": "stdout"
        }
      ]
    }
  ]
}