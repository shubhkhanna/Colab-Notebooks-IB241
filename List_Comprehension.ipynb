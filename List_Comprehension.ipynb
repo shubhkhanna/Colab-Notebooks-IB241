{
  "nbformat": 4,
  "nbformat_minor": 0,
  "metadata": {
    "colab": {
      "name": "List_Comprehension",
      "provenance": [],
      "collapsed_sections": [],
      "authorship_tag": "ABX9TyOF3WH/vFx2vy+onRh3I76s",
      "include_colab_link": true
    },
    "kernelspec": {
      "name": "python3",
      "display_name": "Python 3"
    }
  },
  "cells": [
    {
      "cell_type": "markdown",
      "metadata": {
        "id": "view-in-github",
        "colab_type": "text"
      },
      "source": [
        "<a href=\"https://colab.research.google.com/github/shubhkhanna/Colab-Notebooks-IB241/blob/master/List_Comprehension.ipynb\" target=\"_parent\"><img src=\"https://colab.research.google.com/assets/colab-badge.svg\" alt=\"Open In Colab\"/></a>"
      ]
    },
    {
      "cell_type": "markdown",
      "metadata": {
        "id": "BHA-U8gF9Xfj",
        "colab_type": "text"
      },
      "source": [
        "# List Comprehension"
      ]
    },
    {
      "cell_type": "code",
      "metadata": {
        "id": "BT8ATUGv9lF-",
        "colab_type": "code",
        "colab": {
          "base_uri": "https://localhost:8080/",
          "height": 35
        },
        "outputId": "21e5e895-3bc1-4ca3-9256-57921ef9c116"
      },
      "source": [
        "x = [i for i in range(10)]\n",
        "print(x)"
      ],
      "execution_count": 1,
      "outputs": [
        {
          "output_type": "stream",
          "text": [
            "[0, 1, 2, 3, 4, 5, 6, 7, 8, 9]\n"
          ],
          "name": "stdout"
        }
      ]
    },
    {
      "cell_type": "code",
      "metadata": {
        "id": "8Y3rSx6497lK",
        "colab_type": "code",
        "colab": {
          "base_uri": "https://localhost:8080/",
          "height": 88
        },
        "outputId": "0f06fe7f-0c2b-45dc-8bd4-997017ea2a2c"
      },
      "source": [
        "sq = [sq**2 for sq in range(10)]\n",
        "print(sq)\n",
        "print('\\n')\n",
        "cube = [cube**3 for cube in range(10)]\n",
        "print(cube)"
      ],
      "execution_count": 2,
      "outputs": [
        {
          "output_type": "stream",
          "text": [
            "[0, 1, 4, 9, 16, 25, 36, 49, 64, 81]\n",
            "\n",
            "\n",
            "[0, 1, 8, 27, 64, 125, 216, 343, 512, 729]\n"
          ],
          "name": "stdout"
        }
      ]
    },
    {
      "cell_type": "code",
      "metadata": {
        "id": "XMz9Hwol_Rzk",
        "colab_type": "code",
        "colab": {
          "base_uri": "https://localhost:8080/",
          "height": 52
        },
        "outputId": "e80c2fea-9376-44aa-f90f-423d0a63205b"
      },
      "source": [
        "l1 = [2,4,6]\n",
        "\n",
        "multi = [x*(x/2) for x in l1]\n",
        "print(multi)\n",
        "\n",
        "multi = [x*(x//2) for x in l1]\n",
        "print(multi)"
      ],
      "execution_count": 3,
      "outputs": [
        {
          "output_type": "stream",
          "text": [
            "[2.0, 8.0, 18.0]\n",
            "[2, 8, 18]\n"
          ],
          "name": "stdout"
        }
      ]
    },
    {
      "cell_type": "code",
      "metadata": {
        "id": "eMmpqfMs_-su",
        "colab_type": "code",
        "colab": {
          "base_uri": "https://localhost:8080/",
          "height": 70
        },
        "outputId": "937697bc-5319-4418-e66a-52380aaef56a"
      },
      "source": [
        "words = ['Good','Baddest', 'Worse', 'Best', 'Better']\n",
        "\n",
        "#Printing the 2nd letter of each word\n",
        "Word = [word[1] for word in words]\n",
        "print(Word, '\\n')\n",
        "\n",
        "#Printing the 3rd letter of each word\n",
        "Word = [word[2] for word in words]\n",
        "print(Word)"
      ],
      "execution_count": 4,
      "outputs": [
        {
          "output_type": "stream",
          "text": [
            "['o', 'a', 'o', 'e', 'e'] \n",
            "\n",
            "['o', 'd', 'r', 's', 't']\n"
          ],
          "name": "stdout"
        }
      ]
    },
    {
      "cell_type": "code",
      "metadata": {
        "id": "hqc69LzRBhxw",
        "colab_type": "code",
        "colab": {
          "base_uri": "https://localhost:8080/",
          "height": 35
        },
        "outputId": "bfb64c0a-4212-4c97-bb1b-03a7f22927a9"
      },
      "source": [
        "print([i for i in \"human\"])"
      ],
      "execution_count": 5,
      "outputs": [
        {
          "output_type": "stream",
          "text": [
            "['h', 'u', 'm', 'a', 'n']\n"
          ],
          "name": "stdout"
        }
      ]
    },
    {
      "cell_type": "code",
      "metadata": {
        "id": "pRYiU9UyB2rR",
        "colab_type": "code",
        "colab": {
          "base_uri": "https://localhost:8080/",
          "height": 35
        },
        "outputId": "ca1b716b-12da-4bfa-a49e-871b41ea7a28"
      },
      "source": [
        "gun = []\n",
        "\n",
        "for i in \"human\":\n",
        "  gun.append(i)\n",
        "print(gun)"
      ],
      "execution_count": 6,
      "outputs": [
        {
          "output_type": "stream",
          "text": [
            "['h', 'u', 'm', 'a', 'n']\n"
          ],
          "name": "stdout"
        }
      ]
    },
    {
      "cell_type": "code",
      "metadata": {
        "id": "NkKrWZQND1BR",
        "colab_type": "code",
        "colab": {
          "base_uri": "https://localhost:8080/",
          "height": 35
        },
        "outputId": "df352463-9cb1-42f1-e8c4-06407eee01de"
      },
      "source": [
        "# You need to split the [\"Good\", \"Morning\"]\n",
        "\n",
        "list1 = [\"Good\", \"Morning\"]\n",
        "print([i for i in list1[0] ], [i for i in list1[1]])\n"
      ],
      "execution_count": 14,
      "outputs": [
        {
          "output_type": "stream",
          "text": [
            "['G', 'o', 'o', 'd'] ['M', 'o', 'r', 'n', 'i', 'n', 'g']\n"
          ],
          "name": "stdout"
        }
      ]
    }
  ]
}