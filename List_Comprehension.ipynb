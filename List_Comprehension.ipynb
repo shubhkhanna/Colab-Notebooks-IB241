{
  "nbformat": 4,
  "nbformat_minor": 0,
  "metadata": {
    "colab": {
      "name": "List_Comprehension",
      "provenance": [],
      "collapsed_sections": [],
      "authorship_tag": "ABX9TyOEKXQG2LSILm4tJt4H8RJL",
      "include_colab_link": true
    },
    "kernelspec": {
      "name": "python3",
      "display_name": "Python 3"
    }
  },
  "cells": [
    {
      "cell_type": "markdown",
      "metadata": {
        "id": "view-in-github",
        "colab_type": "text"
      },
      "source": [
        "<a href=\"https://colab.research.google.com/github/shubhkhanna/Colab-Notebooks-IB241/blob/master/List_Comprehension.ipynb\" target=\"_parent\"><img src=\"https://colab.research.google.com/assets/colab-badge.svg\" alt=\"Open In Colab\"/></a>"
      ]
    },
    {
      "cell_type": "markdown",
      "metadata": {
        "id": "BHA-U8gF9Xfj",
        "colab_type": "text"
      },
      "source": [
        "# List Comprehension"
      ]
    },
    {
      "cell_type": "code",
      "metadata": {
        "id": "BT8ATUGv9lF-",
        "colab_type": "code",
        "colab": {
          "base_uri": "https://localhost:8080/",
          "height": 35
        },
        "outputId": "6628e8f8-8c9b-4b47-f7f5-24b63622f8c2"
      },
      "source": [
        "x = [i for i in range(10)]\n",
        "print(x)"
      ],
      "execution_count": 1,
      "outputs": [
        {
          "output_type": "stream",
          "text": [
            "[0, 1, 2, 3, 4, 5, 6, 7, 8, 9]\n"
          ],
          "name": "stdout"
        }
      ]
    },
    {
      "cell_type": "code",
      "metadata": {
        "id": "8Y3rSx6497lK",
        "colab_type": "code",
        "colab": {
          "base_uri": "https://localhost:8080/",
          "height": 88
        },
        "outputId": "67281280-0251-4d64-f386-8e85bc3d0453"
      },
      "source": [
        "sq = [sq**2 for sq in range(10)]\n",
        "print(sq)\n",
        "print('\\n')\n",
        "cube = [cube**3 for cube in range(10)]\n",
        "print(cube)"
      ],
      "execution_count": 9,
      "outputs": [
        {
          "output_type": "stream",
          "text": [
            "[0, 1, 4, 9, 16, 25, 36, 49, 64, 81]\n",
            "\n",
            "\n",
            "[0, 1, 8, 27, 64, 125, 216, 343, 512, 729]\n"
          ],
          "name": "stdout"
        }
      ]
    },
    {
      "cell_type": "code",
      "metadata": {
        "id": "XMz9Hwol_Rzk",
        "colab_type": "code",
        "colab": {
          "base_uri": "https://localhost:8080/",
          "height": 52
        },
        "outputId": "e066056d-4642-4333-a238-a4f1748a55ac"
      },
      "source": [
        "l1 = [2,4,6]\n",
        "\n",
        "multi = [x*(x/2) for x in l1]\n",
        "print(multi)\n",
        "\n",
        "multi = [x*(x//2) for x in l1]\n",
        "print(multi)"
      ],
      "execution_count": 12,
      "outputs": [
        {
          "output_type": "stream",
          "text": [
            "[2.0, 8.0, 18.0]\n",
            "[2, 8, 18]\n"
          ],
          "name": "stdout"
        }
      ]
    },
    {
      "cell_type": "code",
      "metadata": {
        "id": "eMmpqfMs_-su",
        "colab_type": "code",
        "colab": {
          "base_uri": "https://localhost:8080/",
          "height": 70
        },
        "outputId": "0bba0049-426c-4d24-ae0d-6fc2407c699c"
      },
      "source": [
        "words = ['Good','Baddest', 'Worse', 'Best', 'Better']\n",
        "\n",
        "#Printing the 2nd letter of each word\n",
        "Word = [word[1] for word in words]\n",
        "print(Word, '\\n')\n",
        "\n",
        "#Printing the 3rd letter of each word\n",
        "Word = [word[2] for word in words]\n",
        "print(Word)"
      ],
      "execution_count": 18,
      "outputs": [
        {
          "output_type": "stream",
          "text": [
            "['o', 'a', 'o', 'e', 'e'] \n",
            "\n",
            "['o', 'd', 'r', 's', 't']\n"
          ],
          "name": "stdout"
        }
      ]
    },
    {
      "cell_type": "code",
      "metadata": {
        "id": "hqc69LzRBhxw",
        "colab_type": "code",
        "colab": {
          "base_uri": "https://localhost:8080/",
          "height": 35
        },
        "outputId": "2b090c60-a14b-4033-c524-37e96c70e4c2"
      },
      "source": [
        "print([i for i in \"human\"])"
      ],
      "execution_count": 20,
      "outputs": [
        {
          "output_type": "stream",
          "text": [
            "['h', 'u', 'm', 'a', 'n']\n"
          ],
          "name": "stdout"
        }
      ]
    },
    {
      "cell_type": "code",
      "metadata": {
        "id": "pRYiU9UyB2rR",
        "colab_type": "code",
        "colab": {
          "base_uri": "https://localhost:8080/",
          "height": 35
        },
        "outputId": "bed00d12-df89-40d8-8fcb-890b86fb3554"
      },
      "source": [
        "gun = []\n",
        "\n",
        "for i in \"human\":\n",
        "  gun.append(i)\n",
        "print(gun)"
      ],
      "execution_count": 22,
      "outputs": [
        {
          "output_type": "stream",
          "text": [
            "['h', 'u', 'm', 'a', 'n']\n"
          ],
          "name": "stdout"
        }
      ]
    }
  ]
}