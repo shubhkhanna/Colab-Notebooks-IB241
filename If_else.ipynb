{
  "nbformat": 4,
  "nbformat_minor": 0,
  "metadata": {
    "colab": {
      "name": "If-else",
      "provenance": [],
      "toc_visible": true,
      "authorship_tag": "ABX9TyNCB/UBlzgcZKiqT3xgDxlG",
      "include_colab_link": true
    },
    "kernelspec": {
      "name": "python3",
      "display_name": "Python 3"
    }
  },
  "cells": [
    {
      "cell_type": "markdown",
      "metadata": {
        "id": "view-in-github",
        "colab_type": "text"
      },
      "source": [
        "<a href=\"https://colab.research.google.com/github/shubhkhanna/Colab-Notebooks-IB241/blob/master/If_else.ipynb\" target=\"_parent\"><img src=\"https://colab.research.google.com/assets/colab-badge.svg\" alt=\"Open In Colab\"/></a>"
      ]
    },
    {
      "cell_type": "markdown",
      "metadata": {
        "id": "5Qe0OBh7nyLw",
        "colab_type": "text"
      },
      "source": [
        "# If Else Statements"
      ]
    },
    {
      "cell_type": "code",
      "metadata": {
        "id": "3AF-IJQUn4Sd",
        "colab_type": "code",
        "colab": {
          "base_uri": "https://localhost:8080/",
          "height": 35
        },
        "outputId": "da786d02-1375-44e9-c43b-1203106948f7"
      },
      "source": [
        "if 3 > 2:\n",
        "  print(\"Hi\")"
      ],
      "execution_count": null,
      "outputs": [
        {
          "output_type": "stream",
          "text": [
            "Hi\n"
          ],
          "name": "stdout"
        }
      ]
    },
    {
      "cell_type": "code",
      "metadata": {
        "id": "dqJCYFE2oWUE",
        "colab_type": "code",
        "colab": {
          "base_uri": "https://localhost:8080/",
          "height": 35
        },
        "outputId": "a12d83bc-be82-4901-9ecc-5fdb0f27f3c0"
      },
      "source": [
        "if 7 < 2:\n",
        "  print(\"Condition True\")\n",
        "else:\n",
        "  print(\"False Condition\")"
      ],
      "execution_count": null,
      "outputs": [
        {
          "output_type": "stream",
          "text": [
            "False Condition\n"
          ],
          "name": "stdout"
        }
      ]
    },
    {
      "cell_type": "code",
      "metadata": {
        "id": "X9tZ7RZKpaZJ",
        "colab_type": "code",
        "colab": {
          "base_uri": "https://localhost:8080/",
          "height": 35
        },
        "outputId": "fc0002cb-f890-4ad4-f9d5-14bd30fb7f54"
      },
      "source": [
        "if 1 == 2:\n",
        "  print(\"First Condition Executed\")\n",
        "elif 2 == 2:\n",
        "  print(\"Second Condition Executed\")\n",
        "else:\n",
        "  print(\"All condition are false!\")"
      ],
      "execution_count": null,
      "outputs": [
        {
          "output_type": "stream",
          "text": [
            "Second Condition Executed\n"
          ],
          "name": "stdout"
        }
      ]
    },
    {
      "cell_type": "markdown",
      "metadata": {
        "id": "ewCb3dCTH39l",
        "colab_type": "text"
      },
      "source": [
        "# For-Loops"
      ]
    },
    {
      "cell_type": "code",
      "metadata": {
        "id": "_eL4kuUVH7Jq",
        "colab_type": "code",
        "colab": {
          "base_uri": "https://localhost:8080/",
          "height": 88
        },
        "outputId": "596db3cb-034d-430e-f3b9-8d3fdc6ee87e"
      },
      "source": [
        "seq = [1,2,3,4]\n",
        "for item in seq:\n",
        "  print(\"yep\")"
      ],
      "execution_count": 3,
      "outputs": [
        {
          "output_type": "stream",
          "text": [
            "yep\n",
            "yep\n",
            "yep\n",
            "yep\n"
          ],
          "name": "stdout"
        }
      ]
    },
    {
      "cell_type": "markdown",
      "metadata": {
        "id": "R5bPJ_grL2DV",
        "colab_type": "text"
      },
      "source": [
        "# While Loops"
      ]
    },
    {
      "cell_type": "code",
      "metadata": {
        "id": "VIlj3vq3L4sk",
        "colab_type": "code",
        "colab": {
          "base_uri": "https://localhost:8080/",
          "height": 124
        },
        "outputId": "4db3714d-8f2d-484d-f6fe-040795a80e8f"
      },
      "source": [
        "i=0 \n",
        "while( i <= 5):\n",
        "  print(f\"i is {i}\")\n",
        "  i = i+1"
      ],
      "execution_count": 4,
      "outputs": [
        {
          "output_type": "stream",
          "text": [
            "i is 0\n",
            "i is 1\n",
            "i is 2\n",
            "i is 3\n",
            "i is 4\n",
            "i is 5\n"
          ],
          "name": "stdout"
        }
      ]
    }
  ]
}