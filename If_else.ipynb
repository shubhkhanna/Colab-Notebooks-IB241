{
  "nbformat": 4,
  "nbformat_minor": 0,
  "metadata": {
    "colab": {
      "name": "If-else",
      "provenance": [],
      "authorship_tag": "ABX9TyNTGaSy2TSBhiNdc1vZUg8P",
      "include_colab_link": true
    },
    "kernelspec": {
      "name": "python3",
      "display_name": "Python 3"
    }
  },
  "cells": [
    {
      "cell_type": "markdown",
      "metadata": {
        "id": "view-in-github",
        "colab_type": "text"
      },
      "source": [
        "<a href=\"https://colab.research.google.com/github/shubhkhanna/Colab-Notebooks-IB241/blob/master/If_else.ipynb\" target=\"_parent\"><img src=\"https://colab.research.google.com/assets/colab-badge.svg\" alt=\"Open In Colab\"/></a>"
      ]
    },
    {
      "cell_type": "markdown",
      "metadata": {
        "id": "5Qe0OBh7nyLw",
        "colab_type": "text"
      },
      "source": [
        "# If Else Statements"
      ]
    },
    {
      "cell_type": "code",
      "metadata": {
        "id": "3AF-IJQUn4Sd",
        "colab_type": "code",
        "colab": {
          "base_uri": "https://localhost:8080/",
          "height": 35
        },
        "outputId": "da786d02-1375-44e9-c43b-1203106948f7"
      },
      "source": [
        "if 3 > 2:\n",
        "  print(\"Hi\")"
      ],
      "execution_count": 2,
      "outputs": [
        {
          "output_type": "stream",
          "text": [
            "Hi\n"
          ],
          "name": "stdout"
        }
      ]
    },
    {
      "cell_type": "code",
      "metadata": {
        "id": "dqJCYFE2oWUE",
        "colab_type": "code",
        "colab": {
          "base_uri": "https://localhost:8080/",
          "height": 35
        },
        "outputId": "a12d83bc-be82-4901-9ecc-5fdb0f27f3c0"
      },
      "source": [
        "if 7 < 2:\n",
        "  print(\"Condition True\")\n",
        "else:\n",
        "  print(\"False Condition\")"
      ],
      "execution_count": 3,
      "outputs": [
        {
          "output_type": "stream",
          "text": [
            "False Condition\n"
          ],
          "name": "stdout"
        }
      ]
    },
    {
      "cell_type": "code",
      "metadata": {
        "id": "X9tZ7RZKpaZJ",
        "colab_type": "code",
        "colab": {
          "base_uri": "https://localhost:8080/",
          "height": 35
        },
        "outputId": "fc0002cb-f890-4ad4-f9d5-14bd30fb7f54"
      },
      "source": [
        "if 1 == 2:\n",
        "  print(\"First Condition Executed\")\n",
        "elif 2 == 2:\n",
        "  print(\"Second Condition Executed\")\n",
        "else:\n",
        "  print(\"All condition are false!\")"
      ],
      "execution_count": 4,
      "outputs": [
        {
          "output_type": "stream",
          "text": [
            "Second Condition Executed\n"
          ],
          "name": "stdout"
        }
      ]
    }
  ]
}