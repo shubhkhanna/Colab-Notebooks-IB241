{
  "nbformat": 4,
  "nbformat_minor": 0,
  "metadata": {
    "colab": {
      "name": "pandas.ipynb",
      "provenance": [],
      "authorship_tag": "ABX9TyPQrEJ8LYL1LXWx4FKCyiiq",
      "include_colab_link": true
    },
    "kernelspec": {
      "name": "python3",
      "display_name": "Python 3"
    }
  },
  "cells": [
    {
      "cell_type": "markdown",
      "metadata": {
        "id": "view-in-github",
        "colab_type": "text"
      },
      "source": [
        "<a href=\"https://colab.research.google.com/github/shubhkhanna/Colab-Notebooks-IB241/blob/master/pandas.ipynb\" target=\"_parent\"><img src=\"https://colab.research.google.com/assets/colab-badge.svg\" alt=\"Open In Colab\"/></a>"
      ]
    },
    {
      "cell_type": "code",
      "metadata": {
        "id": "uqGG4j8M2Hid"
      },
      "source": [
        "import pandas as pd\n",
        "import numpy as np"
      ],
      "execution_count": 1,
      "outputs": []
    },
    {
      "cell_type": "markdown",
      "metadata": {
        "id": "zvWFjrd12lNb"
      },
      "source": [
        "# Creating a series"
      ]
    },
    {
      "cell_type": "code",
      "metadata": {
        "id": "VIXSx8ms2ooW",
        "outputId": "caaab034-22b4-4a66-e456-1519caade304",
        "colab": {
          "base_uri": "https://localhost:8080/",
          "height": 84
        }
      },
      "source": [
        "list1 = [1,2,3,4]\n",
        "arr = np.array([2,4,5])\n",
        "dict1 = {'a':10,'b':20}\n",
        "labels = [list1,arr,dict1]\n",
        "\n",
        "pd.Series(data=labels)"
      ],
      "execution_count": 2,
      "outputs": [
        {
          "output_type": "execute_result",
          "data": {
            "text/plain": [
              "0          [1, 2, 3, 4]\n",
              "1             [2, 4, 5]\n",
              "2    {'a': 10, 'b': 20}\n",
              "dtype: object"
            ]
          },
          "metadata": {
            "tags": []
          },
          "execution_count": 2
        }
      ]
    },
    {
      "cell_type": "code",
      "metadata": {
        "id": "B8k5v5Sf3C8h",
        "outputId": "5194fb68-58f6-45c3-bc22-a46f8cefee43",
        "colab": {
          "base_uri": "https://localhost:8080/",
          "height": 67
        }
      },
      "source": [
        "pd.Series(data=dict1)"
      ],
      "execution_count": 3,
      "outputs": [
        {
          "output_type": "execute_result",
          "data": {
            "text/plain": [
              "a    10\n",
              "b    20\n",
              "dtype: int64"
            ]
          },
          "metadata": {
            "tags": []
          },
          "execution_count": 3
        }
      ]
    },
    {
      "cell_type": "code",
      "metadata": {
        "id": "mr1vtWho4nn8",
        "outputId": "61a4a159-5c1b-4d27-8779-1a70cd48ac00",
        "colab": {
          "base_uri": "https://localhost:8080/",
          "height": 84
        }
      },
      "source": [
        "pd.Series(arr)"
      ],
      "execution_count": 5,
      "outputs": [
        {
          "output_type": "execute_result",
          "data": {
            "text/plain": [
              "0    2\n",
              "1    4\n",
              "2    5\n",
              "dtype: int64"
            ]
          },
          "metadata": {
            "tags": []
          },
          "execution_count": 5
        }
      ]
    },
    {
      "cell_type": "markdown",
      "metadata": {
        "id": "I6BJi-Og5vAD"
      },
      "source": [
        "# Using an Index"
      ]
    },
    {
      "cell_type": "code",
      "metadata": {
        "id": "6vw8q2pO6FXM",
        "outputId": "a8cbc6c8-1011-46ee-e780-c325afba531d",
        "colab": {
          "base_uri": "https://localhost:8080/",
          "height": 101
        }
      },
      "source": [
        "ser1 = pd.Series([1,2,3,4], index = ['India','USA','UK','Japan'])\n",
        "ser1"
      ],
      "execution_count": 9,
      "outputs": [
        {
          "output_type": "execute_result",
          "data": {
            "text/plain": [
              "India    1\n",
              "USA      2\n",
              "UK       3\n",
              "Japan    4\n",
              "dtype: int64"
            ]
          },
          "metadata": {
            "tags": []
          },
          "execution_count": 9
        }
      ]
    },
    {
      "cell_type": "code",
      "metadata": {
        "id": "Ztl40syO7QkQ",
        "outputId": "72bf2ab3-6961-4d40-a51f-03124e2aec1b",
        "colab": {
          "base_uri": "https://localhost:8080/",
          "height": 101
        }
      },
      "source": [
        "ser1.rename(index={'USA':'Italy'}, inplace=True)\n",
        "ser1"
      ],
      "execution_count": 11,
      "outputs": [
        {
          "output_type": "execute_result",
          "data": {
            "text/plain": [
              "India    1\n",
              "Italy    2\n",
              "UK       3\n",
              "Japan    4\n",
              "dtype: int64"
            ]
          },
          "metadata": {
            "tags": []
          },
          "execution_count": 11
        }
      ]
    }
  ]
}