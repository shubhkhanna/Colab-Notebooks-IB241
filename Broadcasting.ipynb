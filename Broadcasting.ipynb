{
  "nbformat": 4,
  "nbformat_minor": 0,
  "metadata": {
    "colab": {
      "name": "Broadcasting.ipynb",
      "provenance": [],
      "authorship_tag": "ABX9TyPwV7UJGjknKLfbPqeaNyVF",
      "include_colab_link": true
    },
    "kernelspec": {
      "name": "python3",
      "display_name": "Python 3"
    }
  },
  "cells": [
    {
      "cell_type": "markdown",
      "metadata": {
        "id": "view-in-github",
        "colab_type": "text"
      },
      "source": [
        "<a href=\"https://colab.research.google.com/github/shubhkhanna/Colab-Notebooks-IB241/blob/master/Broadcasting.ipynb\" target=\"_parent\"><img src=\"https://colab.research.google.com/assets/colab-badge.svg\" alt=\"Open In Colab\"/></a>"
      ]
    },
    {
      "cell_type": "code",
      "metadata": {
        "id": "A5JLz-npvBET"
      },
      "source": [
        "import numpy as np"
      ],
      "execution_count": 31,
      "outputs": []
    },
    {
      "cell_type": "code",
      "metadata": {
        "id": "70shMXYYwEpg",
        "outputId": "528ec681-e321-4fa5-9bd2-4aa39431d75b",
        "colab": {
          "base_uri": "https://localhost:8080/",
          "height": 286
        }
      },
      "source": [
        "arr = np.arange(200,400)\n",
        "arr"
      ],
      "execution_count": 32,
      "outputs": [
        {
          "output_type": "execute_result",
          "data": {
            "text/plain": [
              "array([200, 201, 202, 203, 204, 205, 206, 207, 208, 209, 210, 211, 212,\n",
              "       213, 214, 215, 216, 217, 218, 219, 220, 221, 222, 223, 224, 225,\n",
              "       226, 227, 228, 229, 230, 231, 232, 233, 234, 235, 236, 237, 238,\n",
              "       239, 240, 241, 242, 243, 244, 245, 246, 247, 248, 249, 250, 251,\n",
              "       252, 253, 254, 255, 256, 257, 258, 259, 260, 261, 262, 263, 264,\n",
              "       265, 266, 267, 268, 269, 270, 271, 272, 273, 274, 275, 276, 277,\n",
              "       278, 279, 280, 281, 282, 283, 284, 285, 286, 287, 288, 289, 290,\n",
              "       291, 292, 293, 294, 295, 296, 297, 298, 299, 300, 301, 302, 303,\n",
              "       304, 305, 306, 307, 308, 309, 310, 311, 312, 313, 314, 315, 316,\n",
              "       317, 318, 319, 320, 321, 322, 323, 324, 325, 326, 327, 328, 329,\n",
              "       330, 331, 332, 333, 334, 335, 336, 337, 338, 339, 340, 341, 342,\n",
              "       343, 344, 345, 346, 347, 348, 349, 350, 351, 352, 353, 354, 355,\n",
              "       356, 357, 358, 359, 360, 361, 362, 363, 364, 365, 366, 367, 368,\n",
              "       369, 370, 371, 372, 373, 374, 375, 376, 377, 378, 379, 380, 381,\n",
              "       382, 383, 384, 385, 386, 387, 388, 389, 390, 391, 392, 393, 394,\n",
              "       395, 396, 397, 398, 399])"
            ]
          },
          "metadata": {
            "tags": []
          },
          "execution_count": 32
        }
      ]
    },
    {
      "cell_type": "code",
      "metadata": {
        "id": "drAB53N3wJ3X",
        "outputId": "02e339af-a906-4652-e732-607bcc0b5c65",
        "colab": {
          "base_uri": "https://localhost:8080/",
          "height": 67
        }
      },
      "source": [
        "arr_new = arr[50:100]\n",
        "arr_new = np.copy(arr_new)\n",
        "print(arr_new)"
      ],
      "execution_count": 33,
      "outputs": [
        {
          "output_type": "stream",
          "text": [
            "[250 251 252 253 254 255 256 257 258 259 260 261 262 263 264 265 266 267\n",
            " 268 269 270 271 272 273 274 275 276 277 278 279 280 281 282 283 284 285\n",
            " 286 287 288 289 290 291 292 293 294 295 296 297 298 299]\n"
          ],
          "name": "stdout"
        }
      ]
    },
    {
      "cell_type": "code",
      "metadata": {
        "id": "NRxfQHv_xqJ7",
        "outputId": "f5910ef6-68c4-436a-f822-e024f1f52680",
        "colab": {
          "base_uri": "https://localhost:8080/",
          "height": 50
        }
      },
      "source": [
        "arr = np.arange(80,100)\n",
        "arr_copy = arr.copy()\n",
        "arr_copy=arr_copy[0:20]\n",
        "arr_copy[:]=55\n",
        "arr_copy"
      ],
      "execution_count": 34,
      "outputs": [
        {
          "output_type": "execute_result",
          "data": {
            "text/plain": [
              "array([55, 55, 55, 55, 55, 55, 55, 55, 55, 55, 55, 55, 55, 55, 55, 55, 55,\n",
              "       55, 55, 55])"
            ]
          },
          "metadata": {
            "tags": []
          },
          "execution_count": 34
        }
      ]
    },
    {
      "cell_type": "code",
      "metadata": {
        "id": "rNtbR_qDy0cA",
        "outputId": "5519c10b-4204-4de7-9b63-dac2751c8967",
        "colab": {
          "base_uri": "https://localhost:8080/",
          "height": 34
        }
      },
      "source": [
        "print(id(arr))"
      ],
      "execution_count": 35,
      "outputs": [
        {
          "output_type": "stream",
          "text": [
            "139976078681552\n"
          ],
          "name": "stdout"
        }
      ]
    },
    {
      "cell_type": "code",
      "metadata": {
        "id": "C9P_H2Y6y7QO",
        "outputId": "e6ae66cd-4448-41a2-c9aa-3446fe3d72f4",
        "colab": {
          "base_uri": "https://localhost:8080/",
          "height": 101
        }
      },
      "source": [
        "xyz = np.arange(1,31)\n",
        "xyz=xyz.reshape(5,6)\n",
        "xyz"
      ],
      "execution_count": 41,
      "outputs": [
        {
          "output_type": "execute_result",
          "data": {
            "text/plain": [
              "array([[ 1,  2,  3,  4,  5,  6],\n",
              "       [ 7,  8,  9, 10, 11, 12],\n",
              "       [13, 14, 15, 16, 17, 18],\n",
              "       [19, 20, 21, 22, 23, 24],\n",
              "       [25, 26, 27, 28, 29, 30]])"
            ]
          },
          "metadata": {
            "tags": []
          },
          "execution_count": 41
        }
      ]
    },
    {
      "cell_type": "code",
      "metadata": {
        "id": "DIjbIETUOksy",
        "outputId": "df85f34a-a6e2-4356-d78e-67deb6a10f13",
        "colab": {
          "base_uri": "https://localhost:8080/",
          "height": 101
        }
      },
      "source": [
        "print(xyz[:,[5,2]]) #extracting any desired column with respect to Index Position Number"
      ],
      "execution_count": 43,
      "outputs": [
        {
          "output_type": "stream",
          "text": [
            "[[ 6  3]\n",
            " [12  9]\n",
            " [18 15]\n",
            " [24 21]\n",
            " [30 27]]\n"
          ],
          "name": "stdout"
        }
      ]
    },
    {
      "cell_type": "code",
      "metadata": {
        "id": "b2cv1bQozxbT",
        "outputId": "478c3c6d-1f57-4e80-9e9a-3ae9a7656f12",
        "colab": {
          "base_uri": "https://localhost:8080/",
          "height": 34
        }
      },
      "source": [
        "xyz[[1,2,3,4],[4,3,2,7]]"
      ],
      "execution_count": 37,
      "outputs": [
        {
          "output_type": "execute_result",
          "data": {
            "text/plain": [
              "array([15, 24, 33, 48])"
            ]
          },
          "metadata": {
            "tags": []
          },
          "execution_count": 37
        }
      ]
    },
    {
      "cell_type": "code",
      "metadata": {
        "id": "80QIS8T11c4r",
        "outputId": "1a27bd2d-5c45-4d87-da0b-c008f590d1f1",
        "colab": {
          "base_uri": "https://localhost:8080/",
          "height": 185
        }
      },
      "source": [
        "arr = np.arange(500,600).reshape(10,10)\n",
        "arr"
      ],
      "execution_count": 38,
      "outputs": [
        {
          "output_type": "execute_result",
          "data": {
            "text/plain": [
              "array([[500, 501, 502, 503, 504, 505, 506, 507, 508, 509],\n",
              "       [510, 511, 512, 513, 514, 515, 516, 517, 518, 519],\n",
              "       [520, 521, 522, 523, 524, 525, 526, 527, 528, 529],\n",
              "       [530, 531, 532, 533, 534, 535, 536, 537, 538, 539],\n",
              "       [540, 541, 542, 543, 544, 545, 546, 547, 548, 549],\n",
              "       [550, 551, 552, 553, 554, 555, 556, 557, 558, 559],\n",
              "       [560, 561, 562, 563, 564, 565, 566, 567, 568, 569],\n",
              "       [570, 571, 572, 573, 574, 575, 576, 577, 578, 579],\n",
              "       [580, 581, 582, 583, 584, 585, 586, 587, 588, 589],\n",
              "       [590, 591, 592, 593, 594, 595, 596, 597, 598, 599]])"
            ]
          },
          "metadata": {
            "tags": []
          },
          "execution_count": 38
        }
      ]
    },
    {
      "cell_type": "code",
      "metadata": {
        "id": "4uRoBDte1iQV",
        "outputId": "e7326053-7233-4071-d1ce-16507240e29b",
        "colab": {
          "base_uri": "https://localhost:8080/",
          "height": 34
        }
      },
      "source": [
        "arr[[3,6,6,1,2,5,8,7,0,9],[4,7,0,0,7,9,6,0,5,7]]"
      ],
      "execution_count": 39,
      "outputs": [
        {
          "output_type": "execute_result",
          "data": {
            "text/plain": [
              "array([534, 567, 560, 510, 527, 559, 586, 570, 505, 597])"
            ]
          },
          "metadata": {
            "tags": []
          },
          "execution_count": 39
        }
      ]
    },
    {
      "cell_type": "code",
      "metadata": {
        "id": "fyUPv7Zu4VWv",
        "outputId": "272e3786-e085-4254-c5e2-3e4005e42cc8",
        "colab": {
          "base_uri": "https://localhost:8080/",
          "height": 353
        }
      },
      "source": [
        "np.arange(100,180).reshape(20,4)"
      ],
      "execution_count": 40,
      "outputs": [
        {
          "output_type": "execute_result",
          "data": {
            "text/plain": [
              "array([[100, 101, 102, 103],\n",
              "       [104, 105, 106, 107],\n",
              "       [108, 109, 110, 111],\n",
              "       [112, 113, 114, 115],\n",
              "       [116, 117, 118, 119],\n",
              "       [120, 121, 122, 123],\n",
              "       [124, 125, 126, 127],\n",
              "       [128, 129, 130, 131],\n",
              "       [132, 133, 134, 135],\n",
              "       [136, 137, 138, 139],\n",
              "       [140, 141, 142, 143],\n",
              "       [144, 145, 146, 147],\n",
              "       [148, 149, 150, 151],\n",
              "       [152, 153, 154, 155],\n",
              "       [156, 157, 158, 159],\n",
              "       [160, 161, 162, 163],\n",
              "       [164, 165, 166, 167],\n",
              "       [168, 169, 170, 171],\n",
              "       [172, 173, 174, 175],\n",
              "       [176, 177, 178, 179]])"
            ]
          },
          "metadata": {
            "tags": []
          },
          "execution_count": 40
        }
      ]
    },
    {
      "cell_type": "code",
      "metadata": {
        "id": "uYhlFGdpP1eB",
        "outputId": "1a753194-ee33-44d8-bd7b-693fc3594d3f",
        "colab": {
          "base_uri": "https://localhost:8080/",
          "height": 34
        }
      },
      "source": [
        "arr = np.arange(1,11)\n",
        "arr"
      ],
      "execution_count": 44,
      "outputs": [
        {
          "output_type": "execute_result",
          "data": {
            "text/plain": [
              "array([ 1,  2,  3,  4,  5,  6,  7,  8,  9, 10])"
            ]
          },
          "metadata": {
            "tags": []
          },
          "execution_count": 44
        }
      ]
    },
    {
      "cell_type": "code",
      "metadata": {
        "id": "diZ4_bBXQAdq",
        "outputId": "5108d724-6dbf-46cd-ff9e-e732ffb4fe0e",
        "colab": {
          "base_uri": "https://localhost:8080/",
          "height": 34
        }
      },
      "source": [
        "arr[arr>3]"
      ],
      "execution_count": 45,
      "outputs": [
        {
          "output_type": "execute_result",
          "data": {
            "text/plain": [
              "array([ 4,  5,  6,  7,  8,  9, 10])"
            ]
          },
          "metadata": {
            "tags": []
          },
          "execution_count": 45
        }
      ]
    },
    {
      "cell_type": "markdown",
      "metadata": {
        "id": "sdKwhZFbRIvE"
      },
      "source": [
        "# Operations"
      ]
    },
    {
      "cell_type": "code",
      "metadata": {
        "id": "tRvN6Q3qRLEQ",
        "outputId": "47a9695b-0d25-46aa-8946-63636987f747",
        "colab": {
          "base_uri": "https://localhost:8080/",
          "height": 151
        }
      },
      "source": [
        "ar = np.arange(0,11)\n",
        "ar1 = np.arange(0,11)\n",
        "ar2 = np.arange(1,101)\n",
        "\n",
        "print(ar)\n",
        "print(ar1)\n",
        "print(ar2)"
      ],
      "execution_count": 52,
      "outputs": [
        {
          "output_type": "stream",
          "text": [
            "[ 0  1  2  3  4  5  6  7  8  9 10]\n",
            "[ 0  1  2  3  4  5  6  7  8  9 10]\n",
            "[  1   2   3   4   5   6   7   8   9  10  11  12  13  14  15  16  17  18\n",
            "  19  20  21  22  23  24  25  26  27  28  29  30  31  32  33  34  35  36\n",
            "  37  38  39  40  41  42  43  44  45  46  47  48  49  50  51  52  53  54\n",
            "  55  56  57  58  59  60  61  62  63  64  65  66  67  68  69  70  71  72\n",
            "  73  74  75  76  77  78  79  80  81  82  83  84  85  86  87  88  89  90\n",
            "  91  92  93  94  95  96  97  98  99 100]\n"
          ],
          "name": "stdout"
        }
      ]
    },
    {
      "cell_type": "code",
      "metadata": {
        "id": "4CXhOAx9SAZ-",
        "outputId": "16dd6996-c8ed-4c82-b3a9-168fd97eb9f2",
        "colab": {
          "base_uri": "https://localhost:8080/",
          "height": 34
        }
      },
      "source": [
        "len(ar) + len(ar1)"
      ],
      "execution_count": 53,
      "outputs": [
        {
          "output_type": "execute_result",
          "data": {
            "text/plain": [
              "22"
            ]
          },
          "metadata": {
            "tags": []
          },
          "execution_count": 53
        }
      ]
    },
    {
      "cell_type": "code",
      "metadata": {
        "id": "qJMSgYTKSICR",
        "outputId": "ffea9753-63e4-4c64-941b-a168b38b0ac8",
        "colab": {
          "base_uri": "https://localhost:8080/",
          "height": 34
        }
      },
      "source": [
        "ar * ar1"
      ],
      "execution_count": 60,
      "outputs": [
        {
          "output_type": "execute_result",
          "data": {
            "text/plain": [
              "array([  0,   1,   4,   9,  16,  25,  36,  49,  64,  81, 100])"
            ]
          },
          "metadata": {
            "tags": []
          },
          "execution_count": 60
        }
      ]
    },
    {
      "cell_type": "code",
      "metadata": {
        "id": "f4FzNWGOSPoI",
        "outputId": "2979fd8c-0ad0-401d-9f03-28ad52b6dc09",
        "colab": {
          "base_uri": "https://localhost:8080/",
          "height": 34
        }
      },
      "source": [
        "ar + ar1"
      ],
      "execution_count": 55,
      "outputs": [
        {
          "output_type": "execute_result",
          "data": {
            "text/plain": [
              "array([ 0,  2,  4,  6,  8, 10, 12, 14, 16, 18, 20])"
            ]
          },
          "metadata": {
            "tags": []
          },
          "execution_count": 55
        }
      ]
    },
    {
      "cell_type": "code",
      "metadata": {
        "id": "jLfrf7L9SZ3k",
        "outputId": "c151d849-c072-4cfe-ffc6-cc5b62db95ff",
        "colab": {
          "base_uri": "https://localhost:8080/",
          "height": 34
        }
      },
      "source": [
        "ar - ar1"
      ],
      "execution_count": 57,
      "outputs": [
        {
          "output_type": "execute_result",
          "data": {
            "text/plain": [
              "array([0, 0, 0, 0, 0, 0, 0, 0, 0, 0, 0])"
            ]
          },
          "metadata": {
            "tags": []
          },
          "execution_count": 57
        }
      ]
    },
    {
      "cell_type": "code",
      "metadata": {
        "id": "QM3Ml1l9SmgA",
        "outputId": "350d6845-3d78-4ffc-c608-031da34e864a",
        "colab": {
          "base_uri": "https://localhost:8080/",
          "height": 67
        }
      },
      "source": [
        "ar/ar1"
      ],
      "execution_count": 58,
      "outputs": [
        {
          "output_type": "stream",
          "text": [
            "/usr/local/lib/python3.6/dist-packages/ipykernel_launcher.py:1: RuntimeWarning: invalid value encountered in true_divide\n",
            "  \"\"\"Entry point for launching an IPython kernel.\n"
          ],
          "name": "stderr"
        },
        {
          "output_type": "execute_result",
          "data": {
            "text/plain": [
              "array([nan,  1.,  1.,  1.,  1.,  1.,  1.,  1.,  1.,  1.,  1.])"
            ]
          },
          "metadata": {
            "tags": []
          },
          "execution_count": 58
        }
      ]
    },
    {
      "cell_type": "markdown",
      "metadata": {
        "id": "IMze0vOLSocO"
      },
      "source": [
        "# Universal Array Functions"
      ]
    },
    {
      "cell_type": "code",
      "metadata": {
        "id": "Uc3V7XvxUoS5",
        "outputId": "dd6e2b64-92ff-4b9b-92a9-7b08bd039f19",
        "colab": {
          "base_uri": "https://localhost:8080/",
          "height": 386
        }
      },
      "source": [
        "print(np.sqrt(ar), '\\n')\n",
        "print(np.exp(ar), '\\n')\n",
        "print(np.log(ar), '\\n')\n",
        "print(np.mean(ar), '\\n')\n",
        "print(np.median(ar), '\\n')\n",
        "print(np.std(ar), '\\n')\n",
        "print(np.var(ar), '\\n')\n",
        "print(np.max(ar), '\\n')"
      ],
      "execution_count": 72,
      "outputs": [
        {
          "output_type": "stream",
          "text": [
            "[0.         1.         1.41421356 1.73205081 2.         2.23606798\n",
            " 2.44948974 2.64575131 2.82842712 3.         3.16227766] \n",
            "\n",
            "[1.00000000e+00 2.71828183e+00 7.38905610e+00 2.00855369e+01\n",
            " 5.45981500e+01 1.48413159e+02 4.03428793e+02 1.09663316e+03\n",
            " 2.98095799e+03 8.10308393e+03 2.20264658e+04] \n",
            "\n",
            "[      -inf 0.         0.69314718 1.09861229 1.38629436 1.60943791\n",
            " 1.79175947 1.94591015 2.07944154 2.19722458 2.30258509] \n",
            "\n",
            "5.0 \n",
            "\n",
            "5.0 \n",
            "\n",
            "3.1622776601683795 \n",
            "\n",
            "10.0 \n",
            "\n",
            "10 \n",
            "\n"
          ],
          "name": "stdout"
        },
        {
          "output_type": "stream",
          "text": [
            "/usr/local/lib/python3.6/dist-packages/ipykernel_launcher.py:3: RuntimeWarning: divide by zero encountered in log\n",
            "  This is separate from the ipykernel package so we can avoid doing imports until\n"
          ],
          "name": "stderr"
        }
      ]
    }
  ]
}