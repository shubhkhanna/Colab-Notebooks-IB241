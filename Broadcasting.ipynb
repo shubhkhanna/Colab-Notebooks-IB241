{
  "nbformat": 4,
  "nbformat_minor": 0,
  "metadata": {
    "colab": {
      "name": "Broadcasting.ipynb",
      "provenance": [],
      "authorship_tag": "ABX9TyONP7tVo5O5m6n5mW/ol0Jd",
      "include_colab_link": true
    },
    "kernelspec": {
      "name": "python3",
      "display_name": "Python 3"
    }
  },
  "cells": [
    {
      "cell_type": "markdown",
      "metadata": {
        "id": "view-in-github",
        "colab_type": "text"
      },
      "source": [
        "<a href=\"https://colab.research.google.com/github/shubhkhanna/Colab-Notebooks-IB241/blob/master/Broadcasting.ipynb\" target=\"_parent\"><img src=\"https://colab.research.google.com/assets/colab-badge.svg\" alt=\"Open In Colab\"/></a>"
      ]
    },
    {
      "cell_type": "code",
      "metadata": {
        "id": "A5JLz-npvBET"
      },
      "source": [
        "import numpy as np"
      ],
      "execution_count": 1,
      "outputs": []
    },
    {
      "cell_type": "code",
      "metadata": {
        "id": "70shMXYYwEpg",
        "outputId": "2a92863a-aa9f-4365-88d9-b8e3e91dfd04",
        "colab": {
          "base_uri": "https://localhost:8080/",
          "height": 286
        }
      },
      "source": [
        "arr = np.arange(200,400)\n",
        "arr"
      ],
      "execution_count": 2,
      "outputs": [
        {
          "output_type": "execute_result",
          "data": {
            "text/plain": [
              "array([200, 201, 202, 203, 204, 205, 206, 207, 208, 209, 210, 211, 212,\n",
              "       213, 214, 215, 216, 217, 218, 219, 220, 221, 222, 223, 224, 225,\n",
              "       226, 227, 228, 229, 230, 231, 232, 233, 234, 235, 236, 237, 238,\n",
              "       239, 240, 241, 242, 243, 244, 245, 246, 247, 248, 249, 250, 251,\n",
              "       252, 253, 254, 255, 256, 257, 258, 259, 260, 261, 262, 263, 264,\n",
              "       265, 266, 267, 268, 269, 270, 271, 272, 273, 274, 275, 276, 277,\n",
              "       278, 279, 280, 281, 282, 283, 284, 285, 286, 287, 288, 289, 290,\n",
              "       291, 292, 293, 294, 295, 296, 297, 298, 299, 300, 301, 302, 303,\n",
              "       304, 305, 306, 307, 308, 309, 310, 311, 312, 313, 314, 315, 316,\n",
              "       317, 318, 319, 320, 321, 322, 323, 324, 325, 326, 327, 328, 329,\n",
              "       330, 331, 332, 333, 334, 335, 336, 337, 338, 339, 340, 341, 342,\n",
              "       343, 344, 345, 346, 347, 348, 349, 350, 351, 352, 353, 354, 355,\n",
              "       356, 357, 358, 359, 360, 361, 362, 363, 364, 365, 366, 367, 368,\n",
              "       369, 370, 371, 372, 373, 374, 375, 376, 377, 378, 379, 380, 381,\n",
              "       382, 383, 384, 385, 386, 387, 388, 389, 390, 391, 392, 393, 394,\n",
              "       395, 396, 397, 398, 399])"
            ]
          },
          "metadata": {
            "tags": []
          },
          "execution_count": 2
        }
      ]
    },
    {
      "cell_type": "code",
      "metadata": {
        "id": "drAB53N3wJ3X",
        "outputId": "105f7e68-ec9e-42e1-d7b2-7c802b2e0b0c",
        "colab": {
          "base_uri": "https://localhost:8080/",
          "height": 67
        }
      },
      "source": [
        "arr_new = arr[50:100]\n",
        "arr_new = np.copy(arr_new)\n",
        "print(arr_new)"
      ],
      "execution_count": 3,
      "outputs": [
        {
          "output_type": "stream",
          "text": [
            "[250 251 252 253 254 255 256 257 258 259 260 261 262 263 264 265 266 267\n",
            " 268 269 270 271 272 273 274 275 276 277 278 279 280 281 282 283 284 285\n",
            " 286 287 288 289 290 291 292 293 294 295 296 297 298 299]\n"
          ],
          "name": "stdout"
        }
      ]
    },
    {
      "cell_type": "code",
      "metadata": {
        "id": "NRxfQHv_xqJ7",
        "outputId": "6f86ab4f-43aa-4a4c-eae9-5e706a046385",
        "colab": {
          "base_uri": "https://localhost:8080/",
          "height": 50
        }
      },
      "source": [
        "arr = np.arange(80,100)\n",
        "arr_copy = arr.copy()\n",
        "arr_copy=arr_copy[0:20]\n",
        "arr_copy[:]=55\n",
        "arr_copy"
      ],
      "execution_count": 4,
      "outputs": [
        {
          "output_type": "execute_result",
          "data": {
            "text/plain": [
              "array([55, 55, 55, 55, 55, 55, 55, 55, 55, 55, 55, 55, 55, 55, 55, 55, 55,\n",
              "       55, 55, 55])"
            ]
          },
          "metadata": {
            "tags": []
          },
          "execution_count": 4
        }
      ]
    },
    {
      "cell_type": "code",
      "metadata": {
        "id": "rNtbR_qDy0cA",
        "outputId": "22b3e4ed-38a3-4a39-b195-22b83f9d066b",
        "colab": {
          "base_uri": "https://localhost:8080/",
          "height": 34
        }
      },
      "source": [
        "print(id(arr))"
      ],
      "execution_count": 5,
      "outputs": [
        {
          "output_type": "stream",
          "text": [
            "139976079658880\n"
          ],
          "name": "stdout"
        }
      ]
    },
    {
      "cell_type": "code",
      "metadata": {
        "id": "C9P_H2Y6y7QO",
        "outputId": "a34e120e-e234-4554-ef55-6d02419e57b1",
        "colab": {
          "base_uri": "https://localhost:8080/",
          "height": 101
        }
      },
      "source": [
        "xyz = np.arange(1,51)\n",
        "xyz=xyz.reshape(5,10)\n",
        "xyz"
      ],
      "execution_count": 10,
      "outputs": [
        {
          "output_type": "execute_result",
          "data": {
            "text/plain": [
              "array([[ 1,  2,  3,  4,  5,  6,  7,  8,  9, 10],\n",
              "       [11, 12, 13, 14, 15, 16, 17, 18, 19, 20],\n",
              "       [21, 22, 23, 24, 25, 26, 27, 28, 29, 30],\n",
              "       [31, 32, 33, 34, 35, 36, 37, 38, 39, 40],\n",
              "       [41, 42, 43, 44, 45, 46, 47, 48, 49, 50]])"
            ]
          },
          "metadata": {
            "tags": []
          },
          "execution_count": 10
        }
      ]
    },
    {
      "cell_type": "code",
      "metadata": {
        "id": "b2cv1bQozxbT",
        "outputId": "80158ee0-e0f0-40e9-88d6-f28aa2b1bbce",
        "colab": {
          "base_uri": "https://localhost:8080/",
          "height": 34
        }
      },
      "source": [
        "xyz[[1,2,3,4],[4,3,2,7]]"
      ],
      "execution_count": 12,
      "outputs": [
        {
          "output_type": "execute_result",
          "data": {
            "text/plain": [
              "array([15, 24, 33, 48])"
            ]
          },
          "metadata": {
            "tags": []
          },
          "execution_count": 12
        }
      ]
    },
    {
      "cell_type": "code",
      "metadata": {
        "id": "80QIS8T11c4r",
        "outputId": "b13f3cac-cc55-484e-b18f-bac2ca3bcddb",
        "colab": {
          "base_uri": "https://localhost:8080/",
          "height": 185
        }
      },
      "source": [
        "arr = np.arange(500,600).reshape(10,10)\n",
        "arr"
      ],
      "execution_count": 13,
      "outputs": [
        {
          "output_type": "execute_result",
          "data": {
            "text/plain": [
              "array([[500, 501, 502, 503, 504, 505, 506, 507, 508, 509],\n",
              "       [510, 511, 512, 513, 514, 515, 516, 517, 518, 519],\n",
              "       [520, 521, 522, 523, 524, 525, 526, 527, 528, 529],\n",
              "       [530, 531, 532, 533, 534, 535, 536, 537, 538, 539],\n",
              "       [540, 541, 542, 543, 544, 545, 546, 547, 548, 549],\n",
              "       [550, 551, 552, 553, 554, 555, 556, 557, 558, 559],\n",
              "       [560, 561, 562, 563, 564, 565, 566, 567, 568, 569],\n",
              "       [570, 571, 572, 573, 574, 575, 576, 577, 578, 579],\n",
              "       [580, 581, 582, 583, 584, 585, 586, 587, 588, 589],\n",
              "       [590, 591, 592, 593, 594, 595, 596, 597, 598, 599]])"
            ]
          },
          "metadata": {
            "tags": []
          },
          "execution_count": 13
        }
      ]
    },
    {
      "cell_type": "code",
      "metadata": {
        "id": "4uRoBDte1iQV",
        "outputId": "68aad0e9-a3b9-460a-d93a-c91a2709a44b",
        "colab": {
          "base_uri": "https://localhost:8080/",
          "height": 34
        }
      },
      "source": [
        "arr[[3,6,6,1,2,5,8,7,0,9],[4,7,0,0,7,9,6,0,5,7]]"
      ],
      "execution_count": 23,
      "outputs": [
        {
          "output_type": "execute_result",
          "data": {
            "text/plain": [
              "array([534, 567, 560, 510, 527, 559, 586, 570, 505, 597])"
            ]
          },
          "metadata": {
            "tags": []
          },
          "execution_count": 23
        }
      ]
    },
    {
      "cell_type": "code",
      "metadata": {
        "id": "fyUPv7Zu4VWv",
        "outputId": "2b10b0e6-2b85-45e7-b541-7977ae8cb019",
        "colab": {
          "base_uri": "https://localhost:8080/",
          "height": 353
        }
      },
      "source": [
        "np.arange(100,180).reshape(20,4)"
      ],
      "execution_count": 30,
      "outputs": [
        {
          "output_type": "execute_result",
          "data": {
            "text/plain": [
              "array([[100, 101, 102, 103],\n",
              "       [104, 105, 106, 107],\n",
              "       [108, 109, 110, 111],\n",
              "       [112, 113, 114, 115],\n",
              "       [116, 117, 118, 119],\n",
              "       [120, 121, 122, 123],\n",
              "       [124, 125, 126, 127],\n",
              "       [128, 129, 130, 131],\n",
              "       [132, 133, 134, 135],\n",
              "       [136, 137, 138, 139],\n",
              "       [140, 141, 142, 143],\n",
              "       [144, 145, 146, 147],\n",
              "       [148, 149, 150, 151],\n",
              "       [152, 153, 154, 155],\n",
              "       [156, 157, 158, 159],\n",
              "       [160, 161, 162, 163],\n",
              "       [164, 165, 166, 167],\n",
              "       [168, 169, 170, 171],\n",
              "       [172, 173, 174, 175],\n",
              "       [176, 177, 178, 179]])"
            ]
          },
          "metadata": {
            "tags": []
          },
          "execution_count": 30
        }
      ]
    }
  ]
}